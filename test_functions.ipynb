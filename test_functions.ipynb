{
 "cells": [
  {
   "cell_type": "code",
   "execution_count": 1,
   "metadata": {},
   "outputs": [],
   "source": [
    "import datetime\n",
    "import time\n",
    "import pandas as pd\n",
    "\n",
    "from whoosh.index import open_dir\n",
    "\n",
    "from whoosh_indexing import create_index,search_index"
   ]
  },
  {
   "cell_type": "code",
   "execution_count": 2,
   "metadata": {},
   "outputs": [],
   "source": [
    "DATA_FILE = '../data/text_train.csv'\n",
    "INDEX_PATH = '../tmp/text_index'"
   ]
  },
  {
   "cell_type": "code",
   "execution_count": 3,
   "metadata": {},
   "outputs": [
    {
     "name": "stdout",
     "output_type": "stream",
     "text": [
      "(159571, 8)\n",
      "                 id                                       comment_text  toxic  \\\n",
      "0  0000997932d777bf  Explanation\\nWhy the edits made under my usern...      0   \n",
      "1  000103f0d9cfb60f  D'aww! He matches this background colour I'm s...      0   \n",
      "2  000113f07ec002fd  Hey man, I'm really not trying to edit war. It...      0   \n",
      "3  0001b41b1c6bb37e  \"\\nMore\\nI can't make any real suggestions on ...      0   \n",
      "4  0001d958c54c6e35  You, sir, are my hero. Any chance you remember...      0   \n",
      "\n",
      "   severe_toxic  obscene  threat  insult  identity_hate  \n",
      "0             0        0       0       0              0  \n",
      "1             0        0       0       0              0  \n",
      "2             0        0       0       0              0  \n",
      "3             0        0       0       0              0  \n",
      "4             0        0       0       0              0  \n"
     ]
    }
   ],
   "source": [
    "text_df = pd.read_csv(DATA_FILE)\n",
    "print(text_df.shape)\n",
    "print(text_df.head())"
   ]
  },
  {
   "cell_type": "code",
   "execution_count": 5,
   "metadata": {},
   "outputs": [
    {
     "name": "stdout",
     "output_type": "stream",
     "text": [
      "CPU count : 4 \n",
      "[1, 1, 1, 1, 1, 1, 1, 1, 1, 1, 1, 1, 1, 1, 1, 1, 1, 1, 1, 1, 1, 1, 1, 1, 1, 1, 1, 1, 1, 1, 1, 1, 1, 1, 1, 1, 1, 1, 1, 1, 1, 1, 1, 1, 1, 1, 1, 1, 1, 1, 1, 1, 1, 1, 1, 1, 1, 1, 1, 1, 1, 1, 1, 1, 1, 1, 1, 1, 1, 1, 1, 1, 1, 1, 1, 1, 1, 1, 1, 1, 1, 1, 1, 1, 1, 1, 1, 1, 1, 1, 1, 1, 1, 1, 1, 1, 1, 1, 1, 1]\n",
      "69.29655766487122\n"
     ]
    }
   ],
   "source": [
    "start_tmst = time.time()\n",
    "ix = create_index(text_df.head(100000),text_col='comment_text',index_path=INDEX_PATH)\n",
    "time_diff = time.time() - start_tmst\n",
    "print(time_diff)"
   ]
  },
  {
   "cell_type": "code",
   "execution_count": 6,
   "metadata": {},
   "outputs": [
    {
     "name": "stdout",
     "output_type": "stream",
     "text": [
      "125837\n"
     ]
    }
   ],
   "source": [
    "with ix.searcher() as searcher:\n",
    "    print(len(list(searcher.lexicon(\"doc_text\"))))"
   ]
  },
  {
   "cell_type": "code",
   "execution_count": 3,
   "metadata": {},
   "outputs": [],
   "source": [
    "ix = open_dir(INDEX_PATH)"
   ]
  },
  {
   "cell_type": "code",
   "execution_count": 7,
   "metadata": {},
   "outputs": [
    {
     "name": "stdout",
     "output_type": "stream",
     "text": [
      "20\n",
      "<class 'list'>\n"
     ]
    }
   ],
   "source": [
    "query_str = \"hero\"\n",
    "results = search_index(ix,query_str)\n",
    "# print(results.scored_length())\n",
    "print(type(results))"
   ]
  },
  {
   "cell_type": "code",
   "execution_count": 8,
   "metadata": {},
   "outputs": [
    {
     "data": {
      "text/plain": [
       "[[['doc_text'],\n",
       "  ['Evil Ernie as anti-hero? \\n\\nThe chaos comics character evil Ernie has been described as an anti-hero. I just want to know if chaos having defined him as an anti-hero (even though he IS also a villain) would change the definition of anti hero here because it seems your definition of anti hero is simnply that an anti hero is a very flawed hero but chaos defines anti hero as something different. So what is an anti hero really? If Evuil Ernie can pass as an anti-hero then your definition of anti hero needs revising.\\n                                                              -Anonymous-'],\n",
       "  0,\n",
       "  14.115455156755468],\n",
       " [['doc_text'], [\"hero's like yourself\"], 1, 11.986402635910824],\n",
       " [['doc_text'],\n",
       "  [\"Hi there!!  Isn't Guitar Hero the greatest?  Please refrain from adding nonsense to Wikipedia, as you did to Guitar Hero. It is considered vandalism. If you would like to experiment, use the sandbox.\"],\n",
       "  2,\n",
       "  11.948559622992022],\n",
       " [['doc_text'],\n",
       "  ['\"\\n\\nAfD nomination of !Hero (album)\\n\\n!Hero (album), an article you created, has been nominated for deletion. We appreciate your contributions. However, an editor does not feel that !Hero (album) satisfies Wikipedia\\'s criteria for inclusion and has explained why in the nomination space (see also \"\"What Wikipedia is not\"\" and the Wikipedia deletion policy). Your opinions on the matter are welcome; please participate in the discussion by adding your comments at Wikipedia:Articles for deletion/!Hero (album) and please be sure to sign your comments with four tildes (~~~~). You are free to edit the content of !Hero (album) during the discussion but should not remove the articles for deletion template from the top of the article; such removal will not end the deletion discussion. Thank you.  \"'],\n",
       "  3,\n",
       "  11.784242890584933],\n",
       " [['doc_text'],\n",
       "  [\"Muhammad slaughtered entire tribes of Jews, but he's not called a terrorist. \\n\\nWhy the double standards against Jews, Wikipedia? If Muhammad's a hero, then Baruch Goldstein is also a hero.\"],\n",
       "  4,\n",
       "  11.771262783158807],\n",
       " [['doc_text'],\n",
       "  ['Anushirvan, Khampalak is just hurted that he is persinized. Don´t take him serious. These Pashtuns never can see the truth instead they are calling thieves, murders Heros and heros thives...typical for kuchis..'],\n",
       "  5,\n",
       "  11.59915059473743],\n",
       " [['doc_text'],\n",
       "  ['You, sir, are the greatest hero in American history.  I salute you.'],\n",
       "  6,\n",
       "  11.466635851992237],\n",
       " [['doc_text'],\n",
       "  ['\"\\n\\n Are \"\"The Simpsons\"\" responsible for the Guitar Hero name? \\n\\nI\\'m trying to find out where the game\\'s designers got the inspiration for the name \"\"Guitar Hero\"\". Does anyone know? The reason I ask is because of the episode \"\"How I Spent My Strummer Vacation\"\" of \"\"The Simpsons\"\", aired in 2002, uses the phrase and given the proximity between the airing of that episode and the creation/release of the first \"\"Guitar Hero\"\" game, figured it couldn\\'t hurt to ask.\"'],\n",
       "  7,\n",
       "  11.365957571031124],\n",
       " [['doc_text'],\n",
       "  ['Guitar hero Rocks!!! (this is an example of wiki vandalism lol)'],\n",
       "  8,\n",
       "  11.30325471286939],\n",
       " [['doc_text'],\n",
       "  ['\"\\n\\n A barnstar for you! \\n\\n  The Anti-Vandalism Barnstar you\\'re my hero!   \"'],\n",
       "  9,\n",
       "  11.30325471286939],\n",
       " [['doc_text'],\n",
       "  ['THE COLUMBINE SHOOTERS ARE MY HEROS\\nMay they rest in peace'],\n",
       "  10,\n",
       "  11.30325471286939],\n",
       " [['doc_text'],\n",
       "  [\"Arsenal Hero? \\n\\nThis is surely completely subjective. Every Arsenal fan that I know thinks he is something of a liability and was at fault in the very game referenced for the first goal. I don't think many Arsenal fans would regard Almunia as an 'Arsenal hero'.\"],\n",
       "  11,\n",
       "  11.19011315760828],\n",
       " [['doc_text'],\n",
       "  [\"You, sir, are my hero. Any chance you remember what page that's on?\"],\n",
       "  12,\n",
       "  11.144464004980042],\n",
       " [['doc_text'],\n",
       "  ['I totally agree with Local hero . In addition , Skanderbeg is the (only ) national hero of Albania ... and maybe the most important figure in Albania s history . I will also point out , that thats an odd rationale, very odd indeed .  Please do not remove established material without consensus .'],\n",
       "  13,\n",
       "  11.03446352980283],\n",
       " [['doc_text'],\n",
       "  ['Whoever wrote the comment above, u r my Fuckin HERO!!!!!!!!!!!! WOOOOO! Rock on!'],\n",
       "  14,\n",
       "  10.990072946191077],\n",
       " [['doc_text'],\n",
       "  [\"Shouldn't Wikipedia also have an article on hero worship, if it has two articles referring to it?\"],\n",
       "  15,\n",
       "  10.839901181994252],\n",
       " [['doc_text'],\n",
       "  ['\"\\n\\nDude, are you stupid? Yankees76 said hes a hero to his people, I was saying how.... Hes the first Inuk to play in the NHL, thus being a hero to his people even if hes just a disgraceful goon.\\nYou sir, are highly uneducated. I hope one day you can go to school and realize that when somebody says \"\"Hes a hero to his people\"\" Isn\\'t racist. Last time I checked, Inuk wasn\\'t even a race. Hes white /Caucasian. Seriously, your ignorance blows my mind.  \"'],\n",
       "  16,\n",
       "  10.798661502954214],\n",
       " [['doc_text'],\n",
       "  ['THE COLUMBINE SHOOTERS ARE MY HEROS\\nThey killed 13 devils. May they rest in peace'],\n",
       "  17,\n",
       "  10.55154209659051],\n",
       " [['doc_text'],\n",
       "  ['Man of steel \\n\\nA hero to people of the orthodox faith everywhere. We will not take IMPERIALISM lying down.'],\n",
       "  18,\n",
       "  10.55154209659051],\n",
       " [['doc_text'],\n",
       "  [\"hey man\\n\\nThanks for that kind notification man! you've been great, veteran hero!\"],\n",
       "  19,\n",
       "  10.55154209659051]]"
      ]
     },
     "execution_count": 8,
     "metadata": {},
     "output_type": "execute_result"
    }
   ],
   "source": [
    "results"
   ]
  },
  {
   "cell_type": "code",
   "execution_count": null,
   "metadata": {},
   "outputs": [],
   "source": [
    "index.op"
   ]
  }
 ],
 "metadata": {
  "kernelspec": {
   "display_name": "Python 3",
   "language": "python",
   "name": "python3"
  },
  "language_info": {
   "codemirror_mode": {
    "name": "ipython",
    "version": 3
   },
   "file_extension": ".py",
   "mimetype": "text/x-python",
   "name": "python",
   "nbconvert_exporter": "python",
   "pygments_lexer": "ipython3",
   "version": "3.7.7"
  }
 },
 "nbformat": 4,
 "nbformat_minor": 4
}
